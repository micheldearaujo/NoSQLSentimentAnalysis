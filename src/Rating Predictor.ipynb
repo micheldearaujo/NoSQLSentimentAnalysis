{
 "cells": [
  {
   "cell_type": "markdown",
   "id": "f3c1744e",
   "metadata": {},
   "source": [
    "# Building a model to predict restaurants overall rating\n",
    "In this part of the project, we are going to study the possibility of creating a Machine Learning model to predict the overall rating of the restaurants. This is going to be a tough task, as we only have 40 different restaurants to predict the result of. Maybe we can workaround and upsample our data, let's see."
   ]
  },
  {
   "cell_type": "markdown",
   "id": "29ac2e1d",
   "metadata": {},
   "source": [
    "## 1. Data Preparation"
   ]
  },
  {
   "cell_type": "code",
   "execution_count": 167,
   "id": "dd573f6d",
   "metadata": {},
   "outputs": [],
   "source": [
    "import numpy as np\n",
    "import pandas as pd\n",
    "import json\n",
    "import pymongo\n",
    "import matplotlib.pyplot as plt\n",
    "import seaborn as sns\n",
    "%matplotlib inline"
   ]
  },
  {
   "cell_type": "code",
   "execution_count": 170,
   "id": "1718c203",
   "metadata": {},
   "outputs": [],
   "source": [
    "reviews_df = pd.read_csv('reviews_df.csv')"
   ]
  },
  {
   "cell_type": "code",
   "execution_count": 171,
   "id": "a17eecf4",
   "metadata": {},
   "outputs": [
    {
     "data": {
      "text/html": [
       "<div>\n",
       "<style scoped>\n",
       "    .dataframe tbody tr th:only-of-type {\n",
       "        vertical-align: middle;\n",
       "    }\n",
       "\n",
       "    .dataframe tbody tr th {\n",
       "        vertical-align: top;\n",
       "    }\n",
       "\n",
       "    .dataframe thead th {\n",
       "        text-align: right;\n",
       "    }\n",
       "</style>\n",
       "<table border=\"1\" class=\"dataframe\">\n",
       "  <thead>\n",
       "    <tr style=\"text-align: right;\">\n",
       "      <th></th>\n",
       "      <th>review</th>\n",
       "      <th>text</th>\n",
       "      <th>processedText</th>\n",
       "      <th>polarity</th>\n",
       "    </tr>\n",
       "  </thead>\n",
       "  <tbody>\n",
       "    <tr>\n",
       "      <th>0</th>\n",
       "      <td>O ambiente é maravilhoso! E o atendimento do g...</td>\n",
       "      <td>The setting is wonderful!And the service of th...</td>\n",
       "      <td>the setting is wonderfuland the service of the...</td>\n",
       "      <td>0.535833</td>\n",
       "    </tr>\n",
       "    <tr>\n",
       "      <th>1</th>\n",
       "      <td>Muito bem atendidos pelo Ângelo Atendimento ág...</td>\n",
       "      <td>Very well attended by the Ângelo service agile...</td>\n",
       "      <td>very well attended by the ângelo service agile...</td>\n",
       "      <td>0.318750</td>\n",
       "    </tr>\n",
       "    <tr>\n",
       "      <th>2</th>\n",
       "      <td>Comida fantástica, muito bem servida e ambient...</td>\n",
       "      <td>Fantastic food, very well served and extremely...</td>\n",
       "      <td>fantastic food very well served and extremely ...</td>\n",
       "      <td>0.413333</td>\n",
       "    </tr>\n",
       "    <tr>\n",
       "      <th>3</th>\n",
       "      <td>Culinária de frutos do mar impecável. Camarão ...</td>\n",
       "      <td>Good seafood cuisine.Shrimp to the delicious s...</td>\n",
       "      <td>good seafood cuisineshrimp to the delicious se...</td>\n",
       "      <td>0.523333</td>\n",
       "    </tr>\n",
       "    <tr>\n",
       "      <th>4</th>\n",
       "      <td>Nota 10, atendente muito simpática e prestativ...</td>\n",
       "      <td>Note 10, very friendly and helpful attendant, ...</td>\n",
       "      <td>note  very friendly and helpful attendant call...</td>\n",
       "      <td>0.346167</td>\n",
       "    </tr>\n",
       "  </tbody>\n",
       "</table>\n",
       "</div>"
      ],
      "text/plain": [
       "                                              review  \\\n",
       "0  O ambiente é maravilhoso! E o atendimento do g...   \n",
       "1  Muito bem atendidos pelo Ângelo Atendimento ág...   \n",
       "2  Comida fantástica, muito bem servida e ambient...   \n",
       "3  Culinária de frutos do mar impecável. Camarão ...   \n",
       "4  Nota 10, atendente muito simpática e prestativ...   \n",
       "\n",
       "                                                text  \\\n",
       "0  The setting is wonderful!And the service of th...   \n",
       "1  Very well attended by the Ângelo service agile...   \n",
       "2  Fantastic food, very well served and extremely...   \n",
       "3  Good seafood cuisine.Shrimp to the delicious s...   \n",
       "4  Note 10, very friendly and helpful attendant, ...   \n",
       "\n",
       "                                       processedText  polarity  \n",
       "0  the setting is wonderfuland the service of the...  0.535833  \n",
       "1  very well attended by the ângelo service agile...  0.318750  \n",
       "2  fantastic food very well served and extremely ...  0.413333  \n",
       "3  good seafood cuisineshrimp to the delicious se...  0.523333  \n",
       "4  note  very friendly and helpful attendant call...  0.346167  "
      ]
     },
     "execution_count": 171,
     "metadata": {},
     "output_type": "execute_result"
    }
   ],
   "source": [
    "reviews_df.head()"
   ]
  },
  {
   "cell_type": "markdown",
   "id": "df1ac507",
   "metadata": {},
   "source": [
    "One of the first things to do is to find out from what restaurant each review is. Let's get the MongoDB Altas connection open again and extract some more information."
   ]
  },
  {
   "cell_type": "code",
   "execution_count": 172,
   "id": "ad415ee5",
   "metadata": {},
   "outputs": [
    {
     "data": {
      "text/plain": [
       "{'_id': ObjectId('6122570ffbd547706864808a'),\n",
       " 'restaurant_name': 'Camarada Camarão - Shopping Recife',\n",
       " 'rating': 5.0,\n",
       " 'number_of_ratings': 3792,\n",
       " 'review_title': 'Encontro amigos!',\n",
       " 'review_date': 'Publicada ontem',\n",
       " 'reviewer_Name': 'karolrevoredoo',\n",
       " 'review': 'O ambiente é maravilhoso! E o atendimento do garçom Edvaldo é incrível, muito atencioso e solicito! O Gerente Amaro Rocha é muito cordial!',\n",
       " 'reviews_scores': {'Excellent': 3073,\n",
       "  'Very Good': 556,\n",
       "  'Good': 63,\n",
       "  'Bad': 19,\n",
       "  'Terrible': 15}}"
      ]
     },
     "execution_count": 172,
     "metadata": {},
     "output_type": "execute_result"
    }
   ],
   "source": [
    "# Oppening the MongoDB Altas Connection\n",
    "f = open('/media/michel/dados/Projects/emails.txt', 'r')\n",
    "passwd = f.read().splitlines()[2]\n",
    "my_mongo_url = passwd\n",
    "\n",
    "# Creating a Client\n",
    "client = pymongo.MongoClient(my_mongo_url, serverSelectionTimeoutMS=5000)\n",
    "db = client.restaurant_reviews\n",
    "\n",
    "# Testing connection\n",
    "db.reviews_I.find_one()"
   ]
  },
  {
   "cell_type": "markdown",
   "id": "b46cf697",
   "metadata": {},
   "source": [
    "Let's get all information as we can so we study the correlation. We have the target variable \"rating\", and the independent variables: number_of_ratings and reviews_scores."
   ]
  },
  {
   "cell_type": "code",
   "execution_count": 173,
   "id": "9b1d9701",
   "metadata": {},
   "outputs": [
    {
     "name": "stderr",
     "output_type": "stream",
     "text": [
      "/tmp/ipykernel_8283/3224375398.py:1: DeprecationWarning: count is deprecated. Use Collection.count_documents instead.\n",
      "  db.reviews_I.find().count()\n"
     ]
    },
    {
     "data": {
      "text/plain": [
       "30746"
      ]
     },
     "execution_count": 173,
     "metadata": {},
     "output_type": "execute_result"
    }
   ],
   "source": [
    "db.reviews_I.find().count()"
   ]
  },
  {
   "cell_type": "code",
   "execution_count": 174,
   "id": "24bc0198",
   "metadata": {},
   "outputs": [
    {
     "ename": "AttributeError",
     "evalue": "'Cursor' object has no attribute 'info'",
     "output_type": "error",
     "traceback": [
      "\u001b[0;31m---------------------------------------------------------------------------\u001b[0m",
      "\u001b[0;31mAttributeError\u001b[0m                            Traceback (most recent call last)",
      "\u001b[0;32m/tmp/ipykernel_8283/2511645415.py\u001b[0m in \u001b[0;36m<module>\u001b[0;34m\u001b[0m\n\u001b[0;32m----> 1\u001b[0;31m \u001b[0mreviews\u001b[0m\u001b[0;34m.\u001b[0m\u001b[0minfo\u001b[0m\u001b[0;34m(\u001b[0m\u001b[0;34m)\u001b[0m\u001b[0;34m\u001b[0m\u001b[0;34m\u001b[0m\u001b[0m\n\u001b[0m",
      "\u001b[0;31mAttributeError\u001b[0m: 'Cursor' object has no attribute 'info'"
     ]
    }
   ],
   "source": [
    "reviews.info()"
   ]
  },
  {
   "cell_type": "markdown",
   "id": "683af824",
   "metadata": {},
   "source": [
    "As the both data sctructures have the same number of elements, we can just add the new data into new columns."
   ]
  },
  {
   "cell_type": "code",
   "execution_count": 175,
   "id": "f74995ea",
   "metadata": {},
   "outputs": [],
   "source": [
    "# Creating some lists to stores the data\n",
    "ratings = []\n",
    "numbers_of_ratings = []\n",
    "excelent = []\n",
    "very_good = []\n",
    "good = []\n",
    "bad = []\n",
    "terrible = []\n",
    "\n",
    "# Querying the data\n",
    "reviews = db.reviews_I.find({})"
   ]
  },
  {
   "cell_type": "code",
   "execution_count": 176,
   "id": "81fb6267",
   "metadata": {},
   "outputs": [],
   "source": [
    "# Appeding the data to the lists\n",
    "for review in db.reviews_I.find({}):\n",
    "    try:\n",
    "        ratings.append(review['rating'])\n",
    "        numbers_of_ratings.append(review['number_of_ratings'])\n",
    "        excelent.append(review['reviews_scores']['Excellent'])\n",
    "        very_good.append(review['reviews_scores']['Very Good'])\n",
    "        good.append(review['reviews_scores']['Good'])\n",
    "        bad.append(review['reviews_scores']['Bad'])\n",
    "        terrible.append(review['reviews_scores']['Terrible'])\n",
    "    except:\n",
    "        pass"
   ]
  },
  {
   "cell_type": "code",
   "execution_count": 177,
   "id": "e4cb5f54",
   "metadata": {},
   "outputs": [
    {
     "data": {
      "text/plain": [
       "20660"
      ]
     },
     "execution_count": 177,
     "metadata": {},
     "output_type": "execute_result"
    }
   ],
   "source": [
    "len(good)"
   ]
  },
  {
   "cell_type": "markdown",
   "id": "958a672d",
   "metadata": {},
   "source": [
    "Some of the documents lack the \"reviews_scores\" information. Later we will see if it would be better to drop those records or replace with other value. Now let's insert this data into our data frame using a join."
   ]
  },
  {
   "cell_type": "code",
   "execution_count": 178,
   "id": "3cc8036f",
   "metadata": {},
   "outputs": [],
   "source": [
    "extra_info = pd.DataFrame(data=list(zip(numbers_of_ratings, excelent, very_good, good, bad, terrible, ratings)),\n",
    "                         columns=[['number_of_ratings', 'excelent', 'very_good', 'good', 'bad', 'terrible', 'rating']])"
   ]
  },
  {
   "cell_type": "code",
   "execution_count": 179,
   "id": "0df44ed5",
   "metadata": {},
   "outputs": [
    {
     "data": {
      "text/html": [
       "<div>\n",
       "<style scoped>\n",
       "    .dataframe tbody tr th:only-of-type {\n",
       "        vertical-align: middle;\n",
       "    }\n",
       "\n",
       "    .dataframe tbody tr th {\n",
       "        vertical-align: top;\n",
       "    }\n",
       "\n",
       "    .dataframe thead tr th {\n",
       "        text-align: left;\n",
       "    }\n",
       "</style>\n",
       "<table border=\"1\" class=\"dataframe\">\n",
       "  <thead>\n",
       "    <tr>\n",
       "      <th></th>\n",
       "      <th>number_of_ratings</th>\n",
       "      <th>excelent</th>\n",
       "      <th>very_good</th>\n",
       "      <th>good</th>\n",
       "      <th>bad</th>\n",
       "      <th>terrible</th>\n",
       "      <th>rating</th>\n",
       "    </tr>\n",
       "  </thead>\n",
       "  <tbody>\n",
       "    <tr>\n",
       "      <th>0</th>\n",
       "      <td>3792</td>\n",
       "      <td>3073</td>\n",
       "      <td>556</td>\n",
       "      <td>63</td>\n",
       "      <td>19</td>\n",
       "      <td>15</td>\n",
       "      <td>5.0</td>\n",
       "    </tr>\n",
       "    <tr>\n",
       "      <th>1</th>\n",
       "      <td>3792</td>\n",
       "      <td>3073</td>\n",
       "      <td>556</td>\n",
       "      <td>63</td>\n",
       "      <td>19</td>\n",
       "      <td>15</td>\n",
       "      <td>5.0</td>\n",
       "    </tr>\n",
       "    <tr>\n",
       "      <th>2</th>\n",
       "      <td>3792</td>\n",
       "      <td>3073</td>\n",
       "      <td>556</td>\n",
       "      <td>63</td>\n",
       "      <td>19</td>\n",
       "      <td>15</td>\n",
       "      <td>5.0</td>\n",
       "    </tr>\n",
       "    <tr>\n",
       "      <th>3</th>\n",
       "      <td>3792</td>\n",
       "      <td>3073</td>\n",
       "      <td>556</td>\n",
       "      <td>63</td>\n",
       "      <td>19</td>\n",
       "      <td>15</td>\n",
       "      <td>5.0</td>\n",
       "    </tr>\n",
       "    <tr>\n",
       "      <th>4</th>\n",
       "      <td>3792</td>\n",
       "      <td>3073</td>\n",
       "      <td>556</td>\n",
       "      <td>63</td>\n",
       "      <td>19</td>\n",
       "      <td>15</td>\n",
       "      <td>5.0</td>\n",
       "    </tr>\n",
       "  </tbody>\n",
       "</table>\n",
       "</div>"
      ],
      "text/plain": [
       "  number_of_ratings excelent very_good good bad terrible rating\n",
       "0              3792     3073       556   63  19       15    5.0\n",
       "1              3792     3073       556   63  19       15    5.0\n",
       "2              3792     3073       556   63  19       15    5.0\n",
       "3              3792     3073       556   63  19       15    5.0\n",
       "4              3792     3073       556   63  19       15    5.0"
      ]
     },
     "execution_count": 179,
     "metadata": {},
     "output_type": "execute_result"
    }
   ],
   "source": [
    "extra_info.head()"
   ]
  },
  {
   "cell_type": "markdown",
   "id": "e0d509e1",
   "metadata": {},
   "source": [
    "Now let's merge it with the reviews dataframe"
   ]
  },
  {
   "cell_type": "code",
   "execution_count": 180,
   "id": "ef9e684d",
   "metadata": {},
   "outputs": [],
   "source": [
    "reviews_df = reviews_df.join(other=extra_info)"
   ]
  },
  {
   "cell_type": "code",
   "execution_count": 181,
   "id": "361c7748",
   "metadata": {},
   "outputs": [],
   "source": [
    "reviews_df = reviews_df.drop(['review', 'text', 'processedText'], axis=1)"
   ]
  },
  {
   "cell_type": "code",
   "execution_count": 182,
   "id": "3e53dea4",
   "metadata": {},
   "outputs": [],
   "source": [
    "reviews_df.columns = ['polarity','number_of_ratings', 'excelent', 'very_good', 'good', 'bad', 'terrible', 'rating']"
   ]
  },
  {
   "cell_type": "code",
   "execution_count": 183,
   "id": "e02fab62",
   "metadata": {},
   "outputs": [
    {
     "data": {
      "text/plain": [
       "0        5.0\n",
       "1        5.0\n",
       "2        5.0\n",
       "3        5.0\n",
       "4        5.0\n",
       "        ... \n",
       "30741    NaN\n",
       "30742    NaN\n",
       "30743    NaN\n",
       "30744    NaN\n",
       "30745    NaN\n",
       "Name: rating, Length: 30746, dtype: float64"
      ]
     },
     "execution_count": 183,
     "metadata": {},
     "output_type": "execute_result"
    }
   ],
   "source": [
    "reviews_df['rating']"
   ]
  },
  {
   "cell_type": "code",
   "execution_count": 184,
   "id": "d04c07de",
   "metadata": {},
   "outputs": [
    {
     "data": {
      "text/html": [
       "<div>\n",
       "<style scoped>\n",
       "    .dataframe tbody tr th:only-of-type {\n",
       "        vertical-align: middle;\n",
       "    }\n",
       "\n",
       "    .dataframe tbody tr th {\n",
       "        vertical-align: top;\n",
       "    }\n",
       "\n",
       "    .dataframe thead th {\n",
       "        text-align: right;\n",
       "    }\n",
       "</style>\n",
       "<table border=\"1\" class=\"dataframe\">\n",
       "  <thead>\n",
       "    <tr style=\"text-align: right;\">\n",
       "      <th></th>\n",
       "      <th>polarity</th>\n",
       "      <th>number_of_ratings</th>\n",
       "      <th>excelent</th>\n",
       "      <th>very_good</th>\n",
       "      <th>good</th>\n",
       "      <th>bad</th>\n",
       "      <th>terrible</th>\n",
       "      <th>rating</th>\n",
       "    </tr>\n",
       "  </thead>\n",
       "  <tbody>\n",
       "    <tr>\n",
       "      <th>good</th>\n",
       "      <td>-0.119903</td>\n",
       "      <td>0.437261</td>\n",
       "      <td>0.252856</td>\n",
       "      <td>0.911264</td>\n",
       "      <td>1.000000</td>\n",
       "      <td>0.864641</td>\n",
       "      <td>0.424079</td>\n",
       "      <td>-0.220718</td>\n",
       "    </tr>\n",
       "    <tr>\n",
       "      <th>very_good</th>\n",
       "      <td>-0.191867</td>\n",
       "      <td>0.374534</td>\n",
       "      <td>0.175714</td>\n",
       "      <td>1.000000</td>\n",
       "      <td>0.911264</td>\n",
       "      <td>0.714537</td>\n",
       "      <td>0.216611</td>\n",
       "      <td>-0.192676</td>\n",
       "    </tr>\n",
       "    <tr>\n",
       "      <th>bad</th>\n",
       "      <td>0.079315</td>\n",
       "      <td>0.644453</td>\n",
       "      <td>0.515883</td>\n",
       "      <td>0.714537</td>\n",
       "      <td>0.864641</td>\n",
       "      <td>1.000000</td>\n",
       "      <td>0.681376</td>\n",
       "      <td>0.054789</td>\n",
       "    </tr>\n",
       "    <tr>\n",
       "      <th>polarity</th>\n",
       "      <td>1.000000</td>\n",
       "      <td>0.255630</td>\n",
       "      <td>0.313744</td>\n",
       "      <td>-0.191867</td>\n",
       "      <td>-0.119903</td>\n",
       "      <td>0.079315</td>\n",
       "      <td>0.264954</td>\n",
       "      <td>0.318941</td>\n",
       "    </tr>\n",
       "    <tr>\n",
       "      <th>terrible</th>\n",
       "      <td>0.264954</td>\n",
       "      <td>0.908020</td>\n",
       "      <td>0.906891</td>\n",
       "      <td>0.216611</td>\n",
       "      <td>0.424079</td>\n",
       "      <td>0.681376</td>\n",
       "      <td>1.000000</td>\n",
       "      <td>0.483392</td>\n",
       "    </tr>\n",
       "    <tr>\n",
       "      <th>number_of_ratings</th>\n",
       "      <td>0.255630</td>\n",
       "      <td>1.000000</td>\n",
       "      <td>0.978317</td>\n",
       "      <td>0.374534</td>\n",
       "      <td>0.437261</td>\n",
       "      <td>0.644453</td>\n",
       "      <td>0.908020</td>\n",
       "      <td>0.663502</td>\n",
       "    </tr>\n",
       "    <tr>\n",
       "      <th>excelent</th>\n",
       "      <td>0.313744</td>\n",
       "      <td>0.978317</td>\n",
       "      <td>1.000000</td>\n",
       "      <td>0.175714</td>\n",
       "      <td>0.252856</td>\n",
       "      <td>0.515883</td>\n",
       "      <td>0.906891</td>\n",
       "      <td>0.755893</td>\n",
       "    </tr>\n",
       "    <tr>\n",
       "      <th>rating</th>\n",
       "      <td>0.318941</td>\n",
       "      <td>0.663502</td>\n",
       "      <td>0.755893</td>\n",
       "      <td>-0.192676</td>\n",
       "      <td>-0.220718</td>\n",
       "      <td>0.054789</td>\n",
       "      <td>0.483392</td>\n",
       "      <td>1.000000</td>\n",
       "    </tr>\n",
       "  </tbody>\n",
       "</table>\n",
       "</div>"
      ],
      "text/plain": [
       "                   polarity  number_of_ratings  excelent  very_good      good  \\\n",
       "good              -0.119903           0.437261  0.252856   0.911264  1.000000   \n",
       "very_good         -0.191867           0.374534  0.175714   1.000000  0.911264   \n",
       "bad                0.079315           0.644453  0.515883   0.714537  0.864641   \n",
       "polarity           1.000000           0.255630  0.313744  -0.191867 -0.119903   \n",
       "terrible           0.264954           0.908020  0.906891   0.216611  0.424079   \n",
       "number_of_ratings  0.255630           1.000000  0.978317   0.374534  0.437261   \n",
       "excelent           0.313744           0.978317  1.000000   0.175714  0.252856   \n",
       "rating             0.318941           0.663502  0.755893  -0.192676 -0.220718   \n",
       "\n",
       "                        bad  terrible    rating  \n",
       "good               0.864641  0.424079 -0.220718  \n",
       "very_good          0.714537  0.216611 -0.192676  \n",
       "bad                1.000000  0.681376  0.054789  \n",
       "polarity           0.079315  0.264954  0.318941  \n",
       "terrible           0.681376  1.000000  0.483392  \n",
       "number_of_ratings  0.644453  0.908020  0.663502  \n",
       "excelent           0.515883  0.906891  0.755893  \n",
       "rating             0.054789  0.483392  1.000000  "
      ]
     },
     "execution_count": 184,
     "metadata": {},
     "output_type": "execute_result"
    }
   ],
   "source": [
    "reviews_df.corr().sort_values('rating')"
   ]
  },
  {
   "cell_type": "markdown",
   "id": "e82704dd",
   "metadata": {},
   "source": [
    "In our small sample data, the \"rating\" variable shows a not-bad correlation with some of the independent variables, like \"excelent\", \"number_of_ratings\", \"terrible\". The polarity variables counts only 0.31 of correlation. Seems like the sentiment analysis is not so effective."
   ]
  },
  {
   "cell_type": "markdown",
   "id": "4fa687af",
   "metadata": {},
   "source": [
    "In order to build a classifier model upon this dataset, it will be necessary to first binarize the \"rating\" target variable, as it is not zeros and ones."
   ]
  },
  {
   "cell_type": "code",
   "execution_count": 144,
   "id": "e41b9ebe",
   "metadata": {},
   "outputs": [
    {
     "data": {
      "text/html": [
       "<div>\n",
       "<style scoped>\n",
       "    .dataframe tbody tr th:only-of-type {\n",
       "        vertical-align: middle;\n",
       "    }\n",
       "\n",
       "    .dataframe tbody tr th {\n",
       "        vertical-align: top;\n",
       "    }\n",
       "\n",
       "    .dataframe thead th {\n",
       "        text-align: right;\n",
       "    }\n",
       "</style>\n",
       "<table border=\"1\" class=\"dataframe\">\n",
       "  <thead>\n",
       "    <tr style=\"text-align: right;\">\n",
       "      <th></th>\n",
       "      <th>polarity</th>\n",
       "      <th>number_of_ratings</th>\n",
       "      <th>excelent</th>\n",
       "      <th>very_good</th>\n",
       "      <th>good</th>\n",
       "      <th>bad</th>\n",
       "      <th>terrible</th>\n",
       "      <th>rating_4.5</th>\n",
       "      <th>rating_5.0</th>\n",
       "    </tr>\n",
       "  </thead>\n",
       "  <tbody>\n",
       "    <tr>\n",
       "      <th>0</th>\n",
       "      <td>0.535833</td>\n",
       "      <td>3792</td>\n",
       "      <td>3073</td>\n",
       "      <td>556</td>\n",
       "      <td>63</td>\n",
       "      <td>19</td>\n",
       "      <td>15</td>\n",
       "      <td>0</td>\n",
       "      <td>1</td>\n",
       "    </tr>\n",
       "    <tr>\n",
       "      <th>1</th>\n",
       "      <td>0.318750</td>\n",
       "      <td>3792</td>\n",
       "      <td>3073</td>\n",
       "      <td>556</td>\n",
       "      <td>63</td>\n",
       "      <td>19</td>\n",
       "      <td>15</td>\n",
       "      <td>0</td>\n",
       "      <td>1</td>\n",
       "    </tr>\n",
       "    <tr>\n",
       "      <th>2</th>\n",
       "      <td>0.413333</td>\n",
       "      <td>3792</td>\n",
       "      <td>3073</td>\n",
       "      <td>556</td>\n",
       "      <td>63</td>\n",
       "      <td>19</td>\n",
       "      <td>15</td>\n",
       "      <td>0</td>\n",
       "      <td>1</td>\n",
       "    </tr>\n",
       "    <tr>\n",
       "      <th>3</th>\n",
       "      <td>0.523333</td>\n",
       "      <td>3792</td>\n",
       "      <td>3073</td>\n",
       "      <td>556</td>\n",
       "      <td>63</td>\n",
       "      <td>19</td>\n",
       "      <td>15</td>\n",
       "      <td>0</td>\n",
       "      <td>1</td>\n",
       "    </tr>\n",
       "    <tr>\n",
       "      <th>4</th>\n",
       "      <td>0.346167</td>\n",
       "      <td>3792</td>\n",
       "      <td>3073</td>\n",
       "      <td>556</td>\n",
       "      <td>63</td>\n",
       "      <td>19</td>\n",
       "      <td>15</td>\n",
       "      <td>0</td>\n",
       "      <td>1</td>\n",
       "    </tr>\n",
       "  </tbody>\n",
       "</table>\n",
       "</div>"
      ],
      "text/plain": [
       "   polarity  number_of_ratings  excelent  very_good  good  bad  terrible  \\\n",
       "0  0.535833               3792      3073        556    63   19        15   \n",
       "1  0.318750               3792      3073        556    63   19        15   \n",
       "2  0.413333               3792      3073        556    63   19        15   \n",
       "3  0.523333               3792      3073        556    63   19        15   \n",
       "4  0.346167               3792      3073        556    63   19        15   \n",
       "\n",
       "   rating_4.5  rating_5.0  \n",
       "0           0           1  \n",
       "1           0           1  \n",
       "2           0           1  \n",
       "3           0           1  \n",
       "4           0           1  "
      ]
     },
     "execution_count": 144,
     "metadata": {},
     "output_type": "execute_result"
    }
   ],
   "source": [
    "reviews_df[\"rating\"] = reviews_df[\"rating\"].apply(lambda x: str(x))\n",
    "reviews_classifier = pd.get_dummies(reviews_df)\n",
    "reviews_classifier.head()"
   ]
  },
  {
   "cell_type": "code",
   "execution_count": null,
   "id": "a82b8ece",
   "metadata": {},
   "outputs": [],
   "source": []
  },
  {
   "cell_type": "code",
   "execution_count": null,
   "id": "c38a6887",
   "metadata": {},
   "outputs": [],
   "source": []
  },
  {
   "cell_type": "markdown",
   "id": "e55825e7",
   "metadata": {},
   "source": [
    "## 2. Building a Decision Tree Classifier\n",
    "To start the Machine Learning part of this project, let's create a Decision Tree with the data in its raw form (not normalized) to see if we can get some result."
   ]
  },
  {
   "cell_type": "markdown",
   "id": "ada9c555",
   "metadata": {},
   "source": [
    "#### 2.1 Setting up the training and testing sets"
   ]
  },
  {
   "cell_type": "code",
   "execution_count": 162,
   "id": "a9cf9c40",
   "metadata": {},
   "outputs": [],
   "source": [
    "from sklearn.tree import DecisionTreeClassifier\n",
    "from sklearn.model_selection import train_test_split\n",
    "from sklearn.metrics import confusion_matrix\n",
    "from sklearn.metrics import auc, classification_report, roc_curve"
   ]
  },
  {
   "cell_type": "markdown",
   "id": "c072bb4f",
   "metadata": {},
   "source": [
    "#### 2.2 Fitting the DTC"
   ]
  },
  {
   "cell_type": "code",
   "execution_count": 148,
   "id": "3182cd3b",
   "metadata": {},
   "outputs": [],
   "source": [
    "# Setting up the X and y variables, as well as spliting the dataset intro training and testing\n",
    "X = reviews_classifier.drop([\"rating_4.5\", \"rating_5.0\"], axis=1)\n",
    "y = reviews_classifier[[\"rating_4.5\", \"rating_5.0\"]]\n",
    "\n",
    "xtr, xte, ytr, yte = train_test_split(X, y, test_size = 0.2, random_state=1)"
   ]
  },
  {
   "cell_type": "code",
   "execution_count": 149,
   "id": "317d6a79",
   "metadata": {},
   "outputs": [],
   "source": [
    "dtc = DecisionTreeClassifier(criterion = 'entropy')"
   ]
  },
  {
   "cell_type": "code",
   "execution_count": 151,
   "id": "973bb2af",
   "metadata": {},
   "outputs": [
    {
     "data": {
      "text/plain": [
       "DecisionTreeClassifier(criterion='entropy')"
      ]
     },
     "execution_count": 151,
     "metadata": {},
     "output_type": "execute_result"
    }
   ],
   "source": [
    "dtc.fit(xtr, ytr)"
   ]
  },
  {
   "cell_type": "markdown",
   "id": "c5ab14b0",
   "metadata": {},
   "source": [
    "#### 2.3 Evaluating the DTC"
   ]
  },
  {
   "cell_type": "code",
   "execution_count": 157,
   "id": "2631b624",
   "metadata": {},
   "outputs": [],
   "source": [
    "dtc_predictions = dtc.predict(xte)"
   ]
  },
  {
   "cell_type": "code",
   "execution_count": 161,
   "id": "41269481",
   "metadata": {},
   "outputs": [
    {
     "name": "stdout",
     "output_type": "stream",
     "text": [
      "              precision    recall  f1-score   support\n",
      "\n",
      "           0       1.00      1.00      1.00      1939\n",
      "           1       1.00      1.00      1.00      4211\n",
      "\n",
      "   micro avg       1.00      1.00      1.00      6150\n",
      "   macro avg       1.00      1.00      1.00      6150\n",
      "weighted avg       1.00      1.00      1.00      6150\n",
      " samples avg       1.00      1.00      1.00      6150\n",
      "\n"
     ]
    }
   ],
   "source": [
    "print(classification_report(yte, dtc_predictions))"
   ]
  },
  {
   "cell_type": "markdown",
   "id": "f1f17a82",
   "metadata": {},
   "source": [
    "### Seems like the model is perfect. That is probably because we only have 40 different labels. To correct this we need more data!"
   ]
  },
  {
   "cell_type": "markdown",
   "id": "5abb0adf",
   "metadata": {},
   "source": []
  },
  {
   "cell_type": "code",
   "execution_count": null,
   "id": "de7335b4",
   "metadata": {},
   "outputs": [],
   "source": []
  },
  {
   "cell_type": "markdown",
   "id": "8e1cfce8",
   "metadata": {},
   "source": []
  },
  {
   "cell_type": "markdown",
   "id": "1c3ecb8f",
   "metadata": {},
   "source": []
  },
  {
   "cell_type": "code",
   "execution_count": null,
   "id": "2ca19fb7",
   "metadata": {},
   "outputs": [],
   "source": []
  },
  {
   "cell_type": "code",
   "execution_count": null,
   "id": "06fb06bd",
   "metadata": {},
   "outputs": [],
   "source": []
  },
  {
   "cell_type": "markdown",
   "id": "7f352686",
   "metadata": {},
   "source": []
  },
  {
   "cell_type": "code",
   "execution_count": null,
   "id": "0f5d8d03",
   "metadata": {},
   "outputs": [],
   "source": []
  },
  {
   "cell_type": "code",
   "execution_count": null,
   "id": "a57ebfa8",
   "metadata": {},
   "outputs": [],
   "source": []
  },
  {
   "cell_type": "markdown",
   "id": "55c384f7",
   "metadata": {},
   "source": []
  },
  {
   "cell_type": "code",
   "execution_count": null,
   "id": "efa4fa88",
   "metadata": {},
   "outputs": [],
   "source": []
  },
  {
   "cell_type": "code",
   "execution_count": null,
   "id": "061a943f",
   "metadata": {},
   "outputs": [],
   "source": []
  },
  {
   "cell_type": "code",
   "execution_count": 124,
   "id": "54f0d8b9",
   "metadata": {},
   "outputs": [
    {
     "data": {
      "text/plain": [
       "1.0"
      ]
     },
     "execution_count": 124,
     "metadata": {},
     "output_type": "execute_result"
    }
   ],
   "source": []
  },
  {
   "cell_type": "code",
   "execution_count": null,
   "id": "6ceaa8b7",
   "metadata": {},
   "outputs": [],
   "source": []
  }
 ],
 "metadata": {
  "kernelspec": {
   "display_name": "Python 3 (ipykernel)",
   "language": "python",
   "name": "python3"
  },
  "language_info": {
   "codemirror_mode": {
    "name": "ipython",
    "version": 3
   },
   "file_extension": ".py",
   "mimetype": "text/x-python",
   "name": "python",
   "nbconvert_exporter": "python",
   "pygments_lexer": "ipython3",
   "version": "3.8.11"
  }
 },
 "nbformat": 4,
 "nbformat_minor": 5
}
